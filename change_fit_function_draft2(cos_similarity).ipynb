{
  "cells": [
    {
      "cell_type": "markdown",
      "metadata": {
        "id": "view-in-github",
        "colab_type": "text"
      },
      "source": [
        "<a href=\"https://colab.research.google.com/github/nicholassung97/DecomposeFit/blob/main/change_fit_function_draft2(cos_similarity).ipynb\" target=\"_parent\"><img src=\"https://colab.research.google.com/assets/colab-badge.svg\" alt=\"Open In Colab\"/></a>"
      ]
    },
    {
      "cell_type": "markdown",
      "id": "14494ebe",
      "metadata": {
        "id": "14494ebe"
      },
      "source": [
        "### Code-1.0: ml-PINN for 1D Convection-Diffusion Equation\n",
        "\n",
        "Tasks:\n",
        "    \n",
        "    1. PDE-NN for 1D convection-diffusion equation:\n",
        "        1.0. Data\n",
        "        1.1. Geometry & BC\n",
        "        1.2. Sampling plan\n",
        "        1.3. PDE-NN \n",
        "    2. Optimize PDE-NN: [SGD]\n",
        "    3. Visualize training dynamic\n",
        "\n",
        "Purpose:\n",
        "\n",
        "    1. Study PDE-NN flexibility "
      ]
    },
    {
      "cell_type": "markdown",
      "id": "e84a150c",
      "metadata": {
        "id": "e84a150c"
      },
      "source": [
        "#1. Import Libraries"
      ]
    },
    {
      "cell_type": "code",
      "execution_count": null,
      "id": "505f0da5",
      "metadata": {
        "colab": {
          "base_uri": "https://localhost:8080/"
        },
        "id": "505f0da5",
        "outputId": "1ca319eb-5380-4311-a910-620353b60e07"
      },
      "outputs": [
        {
          "output_type": "stream",
          "name": "stdout",
          "text": [
            "Looking in indexes: https://pypi.org/simple, https://us-python.pkg.dev/colab-wheels/public/simple/\n",
            "Requirement already satisfied: matplotlib in /usr/local/lib/python3.7/dist-packages (3.2.2)\n",
            "Requirement already satisfied: kiwisolver>=1.0.1 in /usr/local/lib/python3.7/dist-packages (from matplotlib) (1.4.4)\n",
            "Requirement already satisfied: numpy>=1.11 in /usr/local/lib/python3.7/dist-packages (from matplotlib) (1.21.6)\n",
            "Requirement already satisfied: python-dateutil>=2.1 in /usr/local/lib/python3.7/dist-packages (from matplotlib) (2.8.2)\n",
            "Requirement already satisfied: cycler>=0.10 in /usr/local/lib/python3.7/dist-packages (from matplotlib) (0.11.0)\n",
            "Requirement already satisfied: pyparsing!=2.0.4,!=2.1.2,!=2.1.6,>=2.0.1 in /usr/local/lib/python3.7/dist-packages (from matplotlib) (3.0.9)\n",
            "Requirement already satisfied: typing-extensions in /usr/local/lib/python3.7/dist-packages (from kiwisolver>=1.0.1->matplotlib) (4.1.1)\n",
            "Requirement already satisfied: six>=1.5 in /usr/local/lib/python3.7/dist-packages (from python-dateutil>=2.1->matplotlib) (1.15.0)\n"
          ]
        }
      ],
      "source": [
        "!pip install matplotlib\n",
        "\n",
        "%matplotlib inline\n",
        "import matplotlib.pylab as plt \n",
        "from matplotlib import cm\n",
        "\n",
        "import os\n",
        "import math\n",
        "import numpy as np\n",
        "\n",
        "\n",
        "import tensorflow as tf\n",
        "from tensorflow import keras\n",
        "from tensorflow.keras import models, layers\n",
        "from tensorflow.keras.callbacks import LearningRateScheduler, ReduceLROnPlateau, ModelCheckpoint, Callback\n",
        "import tensorflow.keras.backend as K\n",
        "\n",
        "from IPython.display import clear_output\n",
        "from time import time, gmtime, strftime, localtime\n",
        "\n",
        "import warnings\n",
        "warnings.filterwarnings(\"ignore\")"
      ]
    },
    {
      "cell_type": "code",
      "execution_count": null,
      "id": "3d0bc77e",
      "metadata": {
        "id": "3d0bc77e"
      },
      "outputs": [],
      "source": [
        "from scipy import pi\n",
        "\n",
        "import seaborn as sns\n",
        "\n",
        "## run on CPU...\n",
        "os.environ[\"CUDA_VISIBLE_DEVICES\"]=\"-1\"\n",
        "\n",
        "# disable eager excution\n",
        "# tf.compat.v1.disable_eager_execution()"
      ]
    },
    {
      "cell_type": "markdown",
      "id": "e9d37e4a",
      "metadata": {
        "id": "e9d37e4a"
      },
      "source": [
        " **PDE-NN for 1D convection-diffusion equation**"
      ]
    },
    {
      "cell_type": "markdown",
      "id": "cbfabdb2",
      "metadata": {
        "id": "cbfabdb2"
      },
      "source": [
        "      \n",
        "**Prior**\n",
        "\n",
        "    1. Convection-Diffusion Equation: toy problem for a one-dimensional steady-state case \n",
        "        - v*u_x = k*u_xx\n",
        "    2. BC \n",
        "        - u = 0, x = 0\n",
        "        - u = 1, x = L\n",
        "    3. General solution\n",
        "        - u(x) = C1 + D1 exp(ux/k)\n",
        "    4. Given BCs specified in 2, the solution become\n",
        "        - u(x) = [1 - exp(Pe x/L)] / [1 - exp(Pe)]\n",
        "        - Pe = uL/k\n",
        "        "
      ]
    },
    {
      "cell_type": "markdown",
      "id": "4bce8bb7",
      "metadata": {
        "id": "4bce8bb7"
      },
      "source": [
        "# 2. Data"
      ]
    },
    {
      "cell_type": "code",
      "execution_count": null,
      "id": "9bab3fa0",
      "metadata": {
        "id": "9bab3fa0"
      },
      "outputs": [],
      "source": [
        "# function to generate analytical solution\n",
        "def eval_u(x, Pe, L):\n",
        "    x = tf.convert_to_tensor(x, dtype=tf.float32)\n",
        "    u = tf.convert_to_tensor((1. - tf.math.exp(Pe*x/L)) / (1. - tf.math.exp(Pe)))\n",
        "    return u#.eval(session=tf.compat.v1.Session()) \n",
        "\n",
        "def eval_Pe(u, k, L):\n",
        "    return u*L/k"
      ]
    },
    {
      "cell_type": "markdown",
      "id": "e0863f8b",
      "metadata": {
        "id": "e0863f8b"
      },
      "source": [
        "#### 2.1. Geometry & BC"
      ]
    },
    {
      "cell_type": "code",
      "execution_count": null,
      "id": "f7626c4f",
      "metadata": {
        "id": "f7626c4f"
      },
      "outputs": [],
      "source": [
        "# choose v (PDE parameter)\n",
        "v = 10.\n",
        "\n",
        "# fixed PDE & BC parameters k & L\n",
        "k = 1.\n",
        "L = 1.\n",
        "Pe = eval_Pe(v, k, L)\n",
        "\n",
        "# domain boundary\n",
        "x_l, x_u = 0, L"
      ]
    },
    {
      "cell_type": "markdown",
      "id": "bb245c9e",
      "metadata": {
        "id": "bb245c9e"
      },
      "source": [
        "#### 2.2. Sampling plan"
      ]
    },
    {
      "cell_type": "code",
      "execution_count": null,
      "id": "f6401cd5",
      "metadata": {
        "colab": {
          "base_uri": "https://localhost:8080/",
          "height": 296
        },
        "id": "f6401cd5",
        "outputId": "d209546c-174e-4de7-bfa4-c66f535440dc"
      },
      "outputs": [
        {
          "output_type": "stream",
          "name": "stdout",
          "text": [
            "# training sample = 5000\n"
          ]
        },
        {
          "output_type": "display_data",
          "data": {
            "text/plain": [
              "<Figure size 432x288 with 1 Axes>"
            ],
            "image/png": "[encoded data removed]"
          },
          "metadata": {
            "needs_background": "light"
          }
        }
      ],
      "source": [
        "# training data\n",
        "n = 5000\n",
        "x = np.linspace(x_l, x_u, n)\n",
        "X_train = np.hstack([x.reshape(-1, 1), np.ones((len(x), 1))])\n",
        "y_train = np.reshape(eval_u(x, Pe, L),(-1, 1))\n",
        "\n",
        "print ('# training sample = %d' %len(y_train))\n",
        "\n",
        "# viz training data\n",
        "plt.plot(x, eval_u(x, Pe, L), \"k--\", linewidth=1); plt.scatter(X_train[:, 0], y_train, c='salmon', alpha=.5, s=5);\n",
        "plt.xlabel('x'); plt.ylabel('u'); plt.grid();"
      ]
    },
    {
      "cell_type": "code",
      "execution_count": null,
      "id": "ff66fa06",
      "metadata": {
        "id": "ff66fa06"
      },
      "outputs": [],
      "source": [
        "# BC data\n",
        "bc = np.where((X_train[:,0] == x_l) | (X_train[:,0] == x_u))[0]\n",
        "X_bc, y_bc = X_train[bc], y_train[bc]"
      ]
    },
    {
      "cell_type": "code",
      "execution_count": null,
      "id": "d2a06ced",
      "metadata": {
        "id": "d2a06ced"
      },
      "outputs": [],
      "source": [
        "# evaluation data\n",
        "X_eval, y_eval = X_train, y_train\n",
        "\n",
        "# PDE data\n",
        "X_pde, y_pde = X_train, y_train\n",
        "X_ic, y_ic = X_bc, y_bc\n"
      ]
    },
    {
      "cell_type": "markdown",
      "source": [
        "2.3 Preparation of training data"
      ],
      "metadata": {
        "id": "YljstXTrKyxC"
      },
      "id": "YljstXTrKyxC"
    },
    {
      "cell_type": "code",
      "source": [
        "# create multiple batches\n",
        "\n",
        "# taking a random sample of 498 PDE points and 2 BC points\n",
        "batch_pde, batch_ic, batch_bc = (498, 0, 2)\n",
        "batch_per_epoch = 100\n",
        "n_pde, n_ic, n_bc = len(X_pde), len(X_ic), len(X_bc)\n",
        "# i = 0\n",
        "# while i < batch_per_epoch:\n",
        "# pick pde sample\n",
        "idxs = np.random.choice(n_pde, batch_pde)\n",
        "batch_X_pde, batch_y_pde = X_pde[idxs], y_pde[idxs]\n",
        "# pick ic sample\n",
        "idxs = np.random.choice(n_ic, batch_ic)\n",
        "batch_X_ic, batch_y_ic = X_ic[idxs], y_ic[idxs]  \n",
        "# pick bc sample \n",
        "idxs = np.random.choice(n_bc, batch_bc)\n",
        "batch_X_bc, batch_y_bc = X_bc[idxs], y_bc[idxs]\n",
        "# combine all sample\n",
        "batch_X, batch_y = np.vstack([batch_X_pde, batch_X_ic, batch_X_bc]), np.vstack([batch_y_pde, batch_y_ic, batch_y_bc])  \n",
        "# train_dataset = np.hstack([batch_X, batch_y])\n",
        "    # i += 1\n",
        "#batch_X = tf.convert_to_tensor(np.reshape(batch_X, (-1, 2)))\n",
        "batch_X = np.reshape(batch_X, (-1, 2))\n",
        "batch_y = np.reshape(batch_y, (-1, 1))\n"
      ],
      "metadata": {
        "id": "ca9CsizSjseG"
      },
      "id": "ca9CsizSjseG",
      "execution_count": null,
      "outputs": []
    },
    {
      "cell_type": "code",
      "source": [
        "# \"TypeError: 'PrefetchDataset' object is not subscriptable\"\n",
        "# # Sampling Plan is able to continuous generate \n",
        "\n",
        "# # define sampling plan\n",
        "# def SamplingPlan_B1(batch_size=( ), batch_per_epoch=1):\n",
        "#     batch_pde, batch_ic, batch_bc = batch_size\n",
        "#     n_pde, n_ic, n_bc = len(X_pde), len(X_ic), len(X_bc)\n",
        "#     i = 0\n",
        "#     while i < batch_per_epoch:\n",
        "#         # pick pde sample\n",
        "#         idxs = np.random.choice(n_pde, batch_pde)\n",
        "#         batch_X_pde, batch_y_pde = X_pde[idxs], y_pde[idxs]\n",
        "#         # pick ic sample\n",
        "#         idxs = np.random.choice(n_ic, batch_ic)\n",
        "#         batch_X_ic, batch_y_ic = X_ic[idxs], y_ic[idxs]  \n",
        "#         # pick bc sample \n",
        "#         idxs = np.random.choice(n_bc, batch_bc)\n",
        "#         batch_X_bc, batch_y_bc = X_bc[idxs], y_bc[idxs]\n",
        "#         # combine all sample\n",
        "#         batch_X, batch_y = np.vstack([batch_X_pde, batch_X_ic, batch_X_bc]), np.vstack([batch_y_pde, batch_y_ic, batch_y_bc])  \n",
        "#         yield batch_X\n",
        "#         i += 1\n",
        "# BPE =100\n",
        "# batch_X = tf.data.Dataset.from_generator(SamplingPlan_B1, args=[(499, 0, 1), BPE],\n",
        "#                                       output_signature=(tf.TensorSpec(shape=(500, 2), dtype=tf.float32)))\n",
        "# batch_X = batch_X.repeat()\n",
        "# batch_X = batch_X.prefetch(5)\n",
        "# batch_X"
      ],
      "metadata": {
        "id": "3PksHBx0Zszn"
      },
      "id": "3PksHBx0Zszn",
      "execution_count": null,
      "outputs": []
    },
    {
      "cell_type": "markdown",
      "id": "ce1c1371",
      "metadata": {
        "id": "ce1c1371"
      },
      "source": [
        "# 3.0 Set up the neural network architecture"
      ]
    },
    {
      "cell_type": "code",
      "execution_count": null,
      "id": "350df4e6",
      "metadata": {
        "id": "350df4e6"
      },
      "outputs": [],
      "source": [
        "# specify FF-PINN\n",
        "def create_nn(scheme, sigma, lmbda, n_ffs, n_nodes, lr_int):\n",
        "    # input layers -> split into (x, w)\n",
        "    inputs = layers.Input(shape=(2,))\n",
        "    x, w = layers.Lambda( lambda k: tf.split(k, num_or_size_splits=2, axis=1))(inputs)\n",
        "\n",
        "    # initializer\n",
        "    if (scheme == 'He'):\n",
        "        initializer = tf.keras.initializers.HeUniform()  # hidden layers initializer\n",
        "    if (scheme == 'Xavier'):\n",
        "        initializer = tf.keras.initializers.GlorotUniform()  # hidden layers initializer\n",
        "\n",
        "    if (sigma > 0):\n",
        "        initializer_ff = tf.keras.initializers.TruncatedNormal(stddev=sigma)  # features initializer\n",
        "    else:\n",
        "        initializer_ff = initializer  # features initializer\n",
        "\n",
        "    # features mapping\n",
        "    hidden_f = layers.Dense(n_ffs*2, activation='linear', kernel_initializer=initializer_ff)(x)\n",
        "    hidden_f = tf.math.sin(2*tf.constant(pi)*hidden_f)\n",
        "\n",
        "    # hidden layers\n",
        "    hidden_1 = layers.Dense(n_nodes, activation=use_this_activation, kernel_initializer=initializer)(hidden_f)\n",
        "    hidden_2 = layers.Dense(n_nodes, activation=use_this_activation, kernel_initializer=initializer)(hidden_1)\n",
        "    hidden_l = layers.Dense(n_nodes, activation=use_this_activation, kernel_initializer=initializer)(hidden_2)\n",
        "\n",
        "    # output layers\n",
        "    u = layers.Dense(1, use_bias=False, kernel_initializer=initializer)(hidden_l)\n",
        "    \n",
        "    # initiate model\n",
        "    nn = models.Model(inputs=inputs, outputs=u)      \n",
        "  \n",
        "    return nn\n",
        "\n",
        "# activation\n",
        "def use_this_activation(y):\n",
        "    if use_this_acf == 'tanh':\n",
        "        return tf.math.tanh(y)\n",
        "    if use_this_acf == 'sin':\n",
        "        return tf.math.sin(y)\n",
        "    if use_this_acf == 'sigmoid':\n",
        "        return 1. / (1. + tf.math.exp(-y))\n",
        "\n",
        "# f: IC/BC\n",
        "def tf_bc(x):\n",
        "    u = tf.convert_to_tensor((1. - tf.math.exp(Pe*x/L)) / (1. - tf.math.exp(Pe)), dtype=tf.float32)\n",
        "    return u"
      ]
    },
    {
      "cell_type": "code",
      "execution_count": null,
      "id": "89c9352e",
      "metadata": {
        "scrolled": true,
        "colab": {
          "base_uri": "https://localhost:8080/"
        },
        "id": "89c9352e",
        "outputId": "4bd811c2-d4e4-40ec-ed2d-8e997e5121df"
      },
      "outputs": [
        {
          "output_type": "stream",
          "name": "stdout",
          "text": [
            "Model: \"model\"\n",
            "_________________________________________________________________\n",
            " Layer (type)                Output Shape              Param #   \n",
            "=================================================================\n",
            " input_1 (InputLayer)        [(None, 2)]               0         \n",
            "                                                                 \n",
            " lambda (Lambda)             [(None, 1),               0         \n",
            "                              (None, 1)]                         \n",
            "                                                                 \n",
            " dense (Dense)               (None, 32)                64        \n",
            "                                                                 \n",
            " tf.math.multiply (TFOpLambd  (None, 32)               0         \n",
            " a)                                                              \n",
            "                                                                 \n",
            " tf.math.sin (TFOpLambda)    (None, 32)                0         \n",
            "                                                                 \n",
            " dense_1 (Dense)             (None, 10)                330       \n",
            "                                                                 \n",
            " dense_2 (Dense)             (None, 10)                110       \n",
            "                                                                 \n",
            " dense_3 (Dense)             (None, 10)                110       \n",
            "                                                                 \n",
            " dense_4 (Dense)             (None, 1)                 10        \n",
            "                                                                 \n",
            "=================================================================\n",
            "Total params: 624\n",
            "Trainable params: 624\n",
            "Non-trainable params: 0\n",
            "_________________________________________________________________\n"
          ]
        }
      ],
      "source": [
        "# initiate NN model (& pathway to internal values)\n",
        "scheme = 'Xavier'\n",
        "use_this_acf = 'tanh'\n",
        "\n",
        "sigma = .5\n",
        "lmbda = 500.\n",
        "# Initialise the model\n",
        "model = create_nn(scheme, sigma, lmbda, n_ffs = 16, n_nodes = 10, lr_int = 0.001)\n",
        "\n",
        "model.summary()"
      ]
    },
    {
      "cell_type": "markdown",
      "source": [
        "# 4. Define the routines to determine the loss and gradients"
      ],
      "metadata": {
        "id": "vRlRSIQ92HLl"
      },
      "id": "vRlRSIQ92HLl"
    },
    {
      "cell_type": "code",
      "source": [
        "def get_deriviatives(model, batch_X):\n",
        "    # A tf.GradientTape is used to compute derivatives in TensorFlow\n",
        "    with tf.GradientTape(persistent=True) as tape:\n",
        "      # split to commute partial deriviatives\n",
        "      x, w = tf.convert_to_tensor(batch_X[:,0:1]), tf.convert_to_tensor(batch_X[:,1:2])\n",
        "      # Variable x is watched during tape\n",
        "      # to compute derivatives u_x and u_xx\n",
        "      tape.watch(x)\n",
        "      # Determine residual \n",
        "      u = model(tf.stack([x[:,0], w[:,0]], axis=1))\n",
        "      # u = model(tf.stack(batch_X))\n",
        "      # Compute gradient u_x within the GradientTape\n",
        "      # since we need second derivatives\n",
        "      u_x = tape.gradient(u, x)\n",
        "    u_xx = tape.gradient(u_x, x)\n",
        "    x = tf.cast(x, tf.float32)\n",
        "    u_x = tf.cast(u_x, tf.float32)\n",
        "    u_xx = tf.cast(u_xx, tf.float32)\n",
        "    del tape\n",
        "    \n",
        "    return x, u, u_x, u_xx"
      ],
      "metadata": {
        "id": "7So21Nin2TEy"
      },
      "id": "7So21Nin2TEy",
      "execution_count": null,
      "outputs": []
    },
    {
      "cell_type": "code",
      "source": [
        "def compute_loss(model, batch_X):\n",
        "    x, u, u_x, u_xx = get_deriviatives(model, batch_X)    \n",
        "    # BCs (which define the problem)\n",
        "    t_u = tf_bc(x)  # ground truth\n",
        "    _bc = ( tf.equal(x, x_l) | tf.equal(x, x_u) )\n",
        "    bc_mse = tf.compat.v1.losses.mean_squared_error(labels=tf.boolean_mask(t_u, _bc), predictions=tf.boolean_mask(u, _bc))    \n",
        "      \n",
        "    # PDE (physics laws): v*u_x = k*u_xx   \n",
        "    pde = v*u_x - k*u_xx \n",
        "    \n",
        "    # exclude BC points \n",
        "    pde = tf.boolean_mask(pde, ~_bc)\n",
        "    pde_mse = tf.compat.v1.losses.mean_squared_error(labels=tf.zeros_like(pde), predictions=pde)\n",
        "    pde_mse = pde_mse / lmbda    \n",
        "    \n",
        "    # # u mse (for validation)\n",
        "    # u_mse = tf.compat.v1.losses.mean_squared_error(labels=t_u, predictions=u)    \n",
        "\n",
        "    loss = compute_physics_loss(pde_mse, bc_mse)\n",
        "\n",
        "    return loss, bc_mse, pde_mse"
      ],
      "metadata": {
        "id": "Dn8tj8nW1OHC"
      },
      "id": "Dn8tj8nW1OHC",
      "execution_count": null,
      "outputs": []
    },
    {
      "cell_type": "code",
      "execution_count": null,
      "id": "0db7866b",
      "metadata": {
        "id": "0db7866b"
      },
      "outputs": [],
      "source": [
        "# define loss function (Physics: PDE + BC loss)\n",
        "def compute_physics_loss(pde_mse, bc_mse):\n",
        "  return (pde_mse + bc_mse)\n",
        "    # def physics_loss(y_true, y_pred): \n",
        "    # return physics_loss\n",
        "\n",
        "# define loss function (BC loss)\n",
        "def compute_bc_loss(bc_mse):\n",
        "    def bc_loss(y_true, y_pred): return bc_mse\n",
        "    return bc_loss # return a function \n",
        "\n",
        "# define loss function (PDE loss)\n",
        "def compute_pde_loss(pde_mse):\n",
        "    def pde_loss(y_true, y_pred): return pde_mse\n",
        "    return pde_loss # return a function\n",
        "\n",
        "# define loss function (u loss)\n",
        "def compute_u_loss(u_mse):\n",
        "    def u_loss(y_true, y_pred): return u_mse\n",
        "    return u_loss # return a function"
      ]
    },
    {
      "cell_type": "code",
      "source": [
        "def get_grad(model, batch_X):\n",
        "    \n",
        "    with tf.GradientTape(persistent=True) as tape:\n",
        "        # This tape is for derivatives with\n",
        "        # respect to trainable variables\n",
        "        tape.watch(model.trainable_variables)\n",
        "        loss, bc_mse, pde_mse = compute_loss(model, batch_X)\n",
        "\n",
        "    gradient_loss = tape.gradient(loss, model.trainable_variables)\n",
        "    gradient_bc_mse = tape.gradient(bc_mse, model.trainable_variables)\n",
        "    gradient_pde_mse = tape.gradient(pde_mse, model.trainable_variables)\n",
        "    del tape\n",
        "\n",
        "    return loss, bc_mse, pde_mse, gradient_loss, gradient_bc_mse, gradient_pde_mse\n",
        "# compute the gradient for the indivdual loss\n",
        "# cosine similarity between the between the different gradients - see if the gredients are heading  in the same direction\n",
        "# gradient surgery paper??"
      ],
      "metadata": {
        "id": "oK2Cb3Xh9B7E"
      },
      "id": "oK2Cb3Xh9B7E",
      "execution_count": null,
      "outputs": []
    },
    {
      "cell_type": "markdown",
      "id": "346624ca",
      "metadata": {
        "id": "346624ca"
      },
      "source": [
        "# 5. Train the model"
      ]
    },
    {
      "cell_type": "code",
      "source": [
        "# optimizer\n",
        "optimizer = tf.keras.optimizers.Adam(lr=0.001)\n",
        "# list to collect all of the gradients\n",
        "grad_bc_ls = []\n",
        "grad_pde_ls = []"
      ],
      "metadata": {
        "id": "h0-EmPGaRqGm"
      },
      "id": "h0-EmPGaRqGm",
      "execution_count": null,
      "outputs": []
    },
    {
      "cell_type": "code",
      "source": [
        "from time import time\n",
        "\n",
        "# Define one training step as a TensorFlow function to increase speed of training\n",
        "@tf.function\n",
        "def train_step():\n",
        "    # Compute current loss and gradient w.r.t. parameters\n",
        "    loss, bc_mse, pde_mse, grad_theta, grad_bc, grad_pde = get_grad(model, batch_X)\n",
        "\n",
        "    # Perform gradient descent step\n",
        "    optimizer.apply_gradients(zip(grad_theta, model.trainable_variables))\n",
        "    return loss, bc_mse, pde_mse, grad_bc, grad_pde\n",
        "\n",
        "# Number of training epochs\n",
        "N = 5000\n",
        "hist = []\n",
        "\n",
        "# Start timer\n",
        "t0 = time()\n",
        "\n",
        "for i in range(N+1):\n",
        "    loss, bc_mse, pde_mse, grad_bc, grad_pde = train_step()\n",
        "    \n",
        "    # Append current loss to hist\n",
        "    hist.append(loss.numpy())\n",
        "    grad_bc_ls.append(tf.concat([tf.reshape(tensor, [-1,1]) for tensor in grad_bc], 0))\n",
        "    grad_pde_ls.append(tf.concat([tf.reshape(tensor, [-1,1]) for tensor in grad_pde], 0))\n",
        "      \n",
        "    # Output current loss after 50 iterates\n",
        "    if i%50 == 0:\n",
        "        print('It {:05d}: loss = {:10.8e} bc_loss = {:10.8e} pde_loss = {:10.8e}'.format(i,loss, bc_mse, pde_mse))\n",
        "        \n",
        "# Print computation time\n",
        "print('\\nComputation time: {} seconds'.format(time()-t0))"
      ],
      "metadata": {
        "colab": {
          "base_uri": "https://localhost:8080/"
        },
        "id": "spxyeXiL9oil",
        "outputId": "db538d17-695c-486f-d6ea-0dbcbe051bab"
      },
      "id": "spxyeXiL9oil",
      "execution_count": null,
      "outputs": [
        {
          "output_type": "stream",
          "name": "stderr",
          "text": [
            "WARNING:tensorflow:Calling GradientTape.gradient on a persistent tape inside its context is significantly less efficient than calling it outside the context (it causes the gradient ops to be recorded on the tape, leading to increased CPU and memory usage). Only call GradientTape.gradient inside the context if you actually want to trace the gradient in order to compute higher order derivatives.\n"
          ]
        },
        {
          "output_type": "stream",
          "name": "stdout",
          "text": [
            "It 00000: loss = 3.93157601e-01 bc_loss = 0.00000000e+00 pde_loss = 3.93157601e-01\n",
            "It 00050: loss = 8.62991204e-04 bc_loss = 1.00976686e-05 pde_loss = 8.52893514e-04\n",
            "It 00100: loss = 3.08193230e-05 bc_loss = 5.77459893e-08 pde_loss = 3.07615774e-05\n",
            "It 00150: loss = 2.48099241e-05 bc_loss = 6.62995214e-10 pde_loss = 2.48092620e-05\n",
            "It 00200: loss = 2.11854076e-05 bc_loss = 1.43322659e-10 pde_loss = 2.11852639e-05\n",
            "It 00250: loss = 1.81142623e-05 bc_loss = 8.41426581e-11 pde_loss = 1.81141786e-05\n",
            "It 00300: loss = 1.54916797e-05 bc_loss = 2.73332225e-11 pde_loss = 1.54916524e-05\n",
            "It 00350: loss = 1.32931573e-05 bc_loss = 3.60964188e-12 pde_loss = 1.32931536e-05\n",
            "It 00400: loss = 1.14815666e-05 bc_loss = 1.56390569e-12 pde_loss = 1.14815648e-05\n",
            "It 00450: loss = 1.00028437e-05 bc_loss = 1.58296345e-11 pde_loss = 1.00028283e-05\n",
            "It 00500: loss = 8.79696290e-06 bc_loss = 3.90089974e-11 pde_loss = 8.79692379e-06\n",
            "It 00550: loss = 7.80819573e-06 bc_loss = 6.61406277e-11 pde_loss = 7.80812934e-06\n",
            "It 00600: loss = 6.98846679e-06 bc_loss = 9.33321129e-11 pde_loss = 6.98837357e-06\n",
            "It 00650: loss = 6.29967235e-06 bc_loss = 1.14357523e-10 pde_loss = 6.29955821e-06\n",
            "It 00700: loss = 5.71224609e-06 bc_loss = 1.30220695e-10 pde_loss = 5.71211604e-06\n",
            "It 00750: loss = 5.20467620e-06 bc_loss = 1.41987463e-10 pde_loss = 5.20453432e-06\n",
            "It 00800: loss = 4.76118294e-06 bc_loss = 1.49394844e-10 pde_loss = 4.76103332e-06\n",
            "It 00850: loss = 4.37032031e-06 bc_loss = 1.53133436e-10 pde_loss = 4.37016706e-06\n",
            "It 00900: loss = 4.02394608e-06 bc_loss = 1.51470544e-10 pde_loss = 4.02379465e-06\n",
            "It 00950: loss = 3.71583360e-06 bc_loss = 1.46510942e-10 pde_loss = 3.71568717e-06\n",
            "It 01000: loss = 3.44114210e-06 bc_loss = 1.41261572e-10 pde_loss = 3.44100090e-06\n",
            "It 01050: loss = 3.19609126e-06 bc_loss = 1.32705777e-10 pde_loss = 3.19595847e-06\n",
            "It 01100: loss = 2.97751967e-06 bc_loss = 1.25083402e-10 pde_loss = 2.97739462e-06\n",
            "It 01150: loss = 2.78253697e-06 bc_loss = 1.16332159e-10 pde_loss = 2.78242055e-06\n",
            "It 01200: loss = 2.60874367e-06 bc_loss = 1.08154707e-10 pde_loss = 2.60863544e-06\n",
            "It 01250: loss = 2.45382557e-06 bc_loss = 9.84237691e-11 pde_loss = 2.45372712e-06\n",
            "It 01300: loss = 2.31576996e-06 bc_loss = 9.07313044e-11 pde_loss = 2.31567924e-06\n",
            "It 01350: loss = 2.19266622e-06 bc_loss = 8.34576852e-11 pde_loss = 2.19258277e-06\n",
            "It 01400: loss = 2.08279675e-06 bc_loss = 7.58531640e-11 pde_loss = 2.08272081e-06\n",
            "It 01450: loss = 1.98450948e-06 bc_loss = 6.75090123e-11 pde_loss = 1.98444195e-06\n",
            "It 01500: loss = 1.89649677e-06 bc_loss = 6.17963528e-11 pde_loss = 1.89643492e-06\n",
            "It 01550: loss = 1.81739335e-06 bc_loss = 5.62817744e-11 pde_loss = 1.81733708e-06\n",
            "It 01600: loss = 1.74603792e-06 bc_loss = 5.06837836e-11 pde_loss = 1.74598722e-06\n",
            "It 01650: loss = 1.68137501e-06 bc_loss = 4.61673651e-11 pde_loss = 1.68132885e-06\n",
            "It 01700: loss = 1.62250217e-06 bc_loss = 4.15938776e-11 pde_loss = 1.62246056e-06\n",
            "It 01750: loss = 1.56857027e-06 bc_loss = 3.74794674e-11 pde_loss = 1.56853275e-06\n",
            "It 01800: loss = 1.51881159e-06 bc_loss = 3.53004015e-11 pde_loss = 1.51877623e-06\n",
            "It 01850: loss = 1.47265746e-06 bc_loss = 3.18680984e-11 pde_loss = 1.47262563e-06\n",
            "It 01900: loss = 1.42946385e-06 bc_loss = 2.80027373e-11 pde_loss = 1.42943588e-06\n",
            "It 01950: loss = 1.38875839e-06 bc_loss = 2.67568797e-11 pde_loss = 1.38873168e-06\n",
            "It 02000: loss = 1.35014784e-06 bc_loss = 2.43104217e-11 pde_loss = 1.35012351e-06\n",
            "It 02050: loss = 1.31332433e-06 bc_loss = 2.13003139e-11 pde_loss = 1.31330307e-06\n",
            "It 02100: loss = 1.27791623e-06 bc_loss = 1.97890714e-11 pde_loss = 1.27789644e-06\n",
            "It 02150: loss = 1.24363669e-06 bc_loss = 1.79564870e-11 pde_loss = 1.24361873e-06\n",
            "It 02200: loss = 1.21036874e-06 bc_loss = 1.70758772e-11 pde_loss = 1.21035168e-06\n",
            "It 02250: loss = 1.17787317e-06 bc_loss = 1.58162528e-11 pde_loss = 1.17785737e-06\n",
            "It 02300: loss = 1.14599391e-06 bc_loss = 1.42490568e-11 pde_loss = 1.14597970e-06\n",
            "It 02350: loss = 1.11462850e-06 bc_loss = 1.40122766e-11 pde_loss = 1.11461452e-06\n",
            "It 02400: loss = 1.08367703e-06 bc_loss = 1.22044415e-11 pde_loss = 1.08366487e-06\n",
            "It 02450: loss = 1.05306833e-06 bc_loss = 1.05062617e-11 pde_loss = 1.05305787e-06\n",
            "It 02500: loss = 1.02275419e-06 bc_loss = 1.02049280e-11 pde_loss = 1.02274396e-06\n",
            "It 02550: loss = 9.92667879e-07 bc_loss = 9.68352828e-12 pde_loss = 9.92658215e-07\n",
            "It 02600: loss = 9.62810759e-07 bc_loss = 1.24205793e-11 pde_loss = 9.62798367e-07\n",
            "It 02650: loss = 9.38000028e-07 bc_loss = 3.04857628e-09 pde_loss = 9.34951458e-07\n",
            "It 02700: loss = 1.00119416e-06 bc_loss = 5.36843316e-08 pde_loss = 9.47509818e-07\n",
            "It 02750: loss = 8.77968262e-07 bc_loss = 9.11305309e-10 pde_loss = 8.77056948e-07\n",
            "It 02800: loss = 8.47666911e-07 bc_loss = 1.48474887e-13 pde_loss = 8.47666740e-07\n",
            "It 02850: loss = 8.19478259e-07 bc_loss = 1.91532310e-13 pde_loss = 8.19478089e-07\n",
            "It 02900: loss = 2.32466846e-06 bc_loss = 8.75039404e-07 pde_loss = 1.44962894e-06\n",
            "It 02950: loss = 7.65372363e-07 bc_loss = 1.04354234e-11 pde_loss = 7.65361904e-07\n",
            "It 03000: loss = 7.38567053e-07 bc_loss = 5.13401925e-11 pde_loss = 7.38515723e-07\n",
            "It 03050: loss = 7.11717291e-07 bc_loss = 2.19124111e-12 pde_loss = 7.11715074e-07\n",
            "It 03100: loss = 1.26469570e-06 bc_loss = 3.25550928e-07 pde_loss = 9.39144797e-07\n",
            "It 03150: loss = 6.86694023e-07 bc_loss = 1.49989532e-08 pde_loss = 6.71695091e-07\n",
            "It 03200: loss = 6.37309029e-07 bc_loss = 7.47866158e-10 pde_loss = 6.36561140e-07\n",
            "It 03250: loss = 6.10851259e-07 bc_loss = 1.29758712e-11 pde_loss = 6.10838299e-07\n",
            "It 03300: loss = 5.86345209e-07 bc_loss = 7.71325642e-11 pde_loss = 5.86268072e-07\n",
            "It 03350: loss = 2.39122937e-06 bc_loss = 1.03673187e-06 pde_loss = 1.35449761e-06\n",
            "It 03400: loss = 5.52015990e-07 bc_loss = 5.95444094e-09 pde_loss = 5.46061528e-07\n",
            "It 03450: loss = 5.18161812e-07 bc_loss = 1.09722093e-10 pde_loss = 5.18052104e-07\n",
            "It 03500: loss = 4.95534096e-07 bc_loss = 6.29777090e-12 pde_loss = 4.95527786e-07\n",
            "It 03550: loss = 5.68450446e-07 bc_loss = 5.31845608e-08 pde_loss = 5.15265867e-07\n",
            "It 03600: loss = 7.74614023e-07 bc_loss = 1.81277841e-07 pde_loss = 5.93336154e-07\n",
            "It 03650: loss = 4.34041510e-07 bc_loss = 1.64765063e-10 pde_loss = 4.33876750e-07\n",
            "It 03700: loss = 4.13562560e-07 bc_loss = 2.38451429e-11 pde_loss = 4.13538714e-07\n",
            "It 03750: loss = 3.93732989e-07 bc_loss = 1.06207361e-11 pde_loss = 3.93722360e-07\n",
            "It 03800: loss = 3.27484940e-06 bc_loss = 1.64533685e-06 pde_loss = 1.62951267e-06\n",
            "It 03850: loss = 3.71230186e-07 bc_loss = 7.01787117e-09 pde_loss = 3.64212326e-07\n",
            "It 03900: loss = 3.41722284e-07 bc_loss = 2.44168796e-10 pde_loss = 3.41478113e-07\n",
            "It 03950: loss = 3.23938366e-07 bc_loss = 1.00560463e-11 pde_loss = 3.23928305e-07\n",
            "It 04000: loss = 3.06969270e-07 bc_loss = 7.29056052e-12 pde_loss = 3.06961965e-07\n",
            "It 04050: loss = 3.78731283e-06 bc_loss = 1.95720440e-06 pde_loss = 1.83010832e-06\n",
            "It 04100: loss = 2.81546363e-07 bc_loss = 1.75498771e-09 pde_loss = 2.79791379e-07\n",
            "It 04150: loss = 2.64093558e-07 bc_loss = 3.38246875e-10 pde_loss = 2.63755311e-07\n",
            "It 04200: loss = 2.48968433e-07 bc_loss = 7.05248490e-12 pde_loss = 2.48961385e-07\n",
            "It 04250: loss = 2.34829898e-07 bc_loss = 5.46644327e-12 pde_loss = 2.34824427e-07\n",
            "It 04300: loss = 4.79215998e-07 bc_loss = 1.47929242e-07 pde_loss = 3.31286770e-07\n",
            "It 04350: loss = 6.19060586e-07 bc_loss = 2.28094891e-07 pde_loss = 3.90965710e-07\n",
            "It 04400: loss = 1.99820420e-07 bc_loss = 1.17259926e-11 pde_loss = 1.99808696e-07\n",
            "It 04450: loss = 1.87841479e-07 bc_loss = 1.97398535e-13 pde_loss = 1.87841280e-07\n",
            "It 04500: loss = 1.76379402e-07 bc_loss = 1.70562848e-12 pde_loss = 1.76377696e-07\n",
            "It 04550: loss = 1.65639420e-07 bc_loss = 1.72332357e-10 pde_loss = 1.65467085e-07\n",
            "It 04600: loss = 1.90591481e-06 bc_loss = 9.69156872e-07 pde_loss = 9.36757885e-07\n",
            "It 04650: loss = 1.69186265e-07 bc_loss = 1.08954472e-08 pde_loss = 1.58290817e-07\n",
            "It 04700: loss = 1.39670064e-07 bc_loss = 3.76693295e-11 pde_loss = 1.39632391e-07\n",
            "It 04750: loss = 1.30532271e-07 bc_loss = 5.14896827e-13 pde_loss = 1.30531760e-07\n",
            "It 04800: loss = 1.21967261e-07 bc_loss = 7.22751557e-13 pde_loss = 1.21966536e-07\n",
            "It 04850: loss = 1.02289159e-05 bc_loss = 5.62197511e-06 pde_loss = 4.60694127e-06\n",
            "It 04900: loss = 2.23301484e-07 bc_loss = 6.25259986e-08 pde_loss = 1.60775485e-07\n",
            "It 04950: loss = 1.03195028e-07 bc_loss = 4.90331442e-10 pde_loss = 1.02704696e-07\n",
            "It 05000: loss = 9.54720818e-08 bc_loss = 5.96895146e-12 pde_loss = 9.54661132e-08\n",
            "\n",
            "Computation time: 34.85872197151184 seconds\n"
          ]
        }
      ]
    },
    {
      "cell_type": "code",
      "source": [
        "fig = plt.figure(figsize=(9,6))\n",
        "plt.title(\"Loss against Epoch\")\n",
        "ax = fig.add_subplot(111)\n",
        "ax.semilogy(range(len(hist)), hist,'k-')\n",
        "ax.set_xlabel('$n_{epoch}$')\n",
        "ax.set_ylabel('Loss');"
      ],
      "metadata": {
        "id": "5y0heftaZtVi",
        "colab": {
          "base_uri": "https://localhost:8080/",
          "height": 406
        },
        "outputId": "dec376f2-917e-4c85-c85e-a582ca2f024a"
      },
      "id": "5y0heftaZtVi",
      "execution_count": null,
      "outputs": [
        {
          "output_type": "display_data",
          "data": {
            "text/plain": [
              "<Figure size 648x432 with 1 Axes>"
            ],
            "image/png": "[encoded data removed]"
          },
          "metadata": {
            "needs_background": "light"
          }
        }
      ]
    },
    {
      "cell_type": "markdown",
      "source": [
        "#6. Finding the cosine similarity"
      ],
      "metadata": {
        "id": "PZ4qil-zpF1g"
      },
      "id": "PZ4qil-zpF1g"
    },
    {
      "cell_type": "code",
      "source": [
        "cos_sim_ls = []\n",
        "# Cosine values closer to -1 indicate greater similarity\n",
        "# Cosine values closer to 0 indicates orthogonal\n",
        "# and values closer to 1 indicate greater dissimilarity.\n",
        "for grad_bc, grad_pde in zip(grad_bc_ls, grad_pde_ls):\n",
        "  cosine_loss = tf.keras.losses.CosineSimilarity(axis=1)\n",
        "  cos_sim_ls.append(cosine_loss(grad_bc, grad_pde).numpy())\n"
      ],
      "metadata": {
        "id": "0Yi7-Yr_eViJ"
      },
      "id": "0Yi7-Yr_eViJ",
      "execution_count": null,
      "outputs": []
    },
    {
      "cell_type": "code",
      "source": [
        "fig = plt.figure(figsize=(9,6))\n",
        "plt.title(\"Cosine Similarity against Epoch\")\n",
        "ax = fig.add_subplot(111)\n",
        "ax.semilogy(range(len(cos_sim_ls)), cos_sim_ls,'k-')\n",
        "ax.set_xlabel('$n_{epoch}$')\n",
        "ax.set_ylabel('Cosine similarty');"
      ],
      "metadata": {
        "colab": {
          "base_uri": "https://localhost:8080/",
          "height": 406
        },
        "id": "5qnL3NsnoWXp",
        "outputId": "fc6e29f6-202a-4b15-c44e-268f05891c6d"
      },
      "id": "5qnL3NsnoWXp",
      "execution_count": null,
      "outputs": [
        {
          "output_type": "display_data",
          "data": {
            "text/plain": [
              "<Figure size 648x432 with 1 Axes>"
            ],
            "image/png": "[encoded data removed]"
          },
          "metadata": {
            "needs_background": "light"
          }
        }
      ]
    }
  ],
  "metadata": {
    "kernelspec": {
      "display_name": "Python 3.9 (tensorflow)",
      "language": "python",
      "name": "tensorflow"
    },
    "language_info": {
      "codemirror_mode": {
        "name": "ipython",
        "version": 3
      },
      "file_extension": ".py",
      "mimetype": "text/x-python",
      "name": "python",
      "nbconvert_exporter": "python",
      "pygments_lexer": "ipython3",
      "version": "3.9.13"
    },
    "colab": {
      "provenance": [],
      "collapsed_sections": [],
      "include_colab_link": true
    },
    "accelerator": "GPU",
    "gpuClass": "standard"
  },
  "nbformat": 4,
  "nbformat_minor": 5
}